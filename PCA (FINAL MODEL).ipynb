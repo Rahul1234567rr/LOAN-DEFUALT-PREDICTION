{
 "cells": [
  {
   "cell_type": "code",
   "execution_count": 2,
   "id": "a41d442b",
   "metadata": {},
   "outputs": [
    {
     "data": {
      "text/html": [
       "<div>\n",
       "<style scoped>\n",
       "    .dataframe tbody tr th:only-of-type {\n",
       "        vertical-align: middle;\n",
       "    }\n",
       "\n",
       "    .dataframe tbody tr th {\n",
       "        vertical-align: top;\n",
       "    }\n",
       "\n",
       "    .dataframe thead th {\n",
       "        text-align: right;\n",
       "    }\n",
       "</style>\n",
       "<table border=\"1\" class=\"dataframe\">\n",
       "  <thead>\n",
       "    <tr style=\"text-align: right;\">\n",
       "      <th></th>\n",
       "      <th>credit.policy</th>\n",
       "      <th>purpose</th>\n",
       "      <th>int.rate</th>\n",
       "      <th>installment</th>\n",
       "      <th>log.annual.inc</th>\n",
       "      <th>dti</th>\n",
       "      <th>fico</th>\n",
       "      <th>days.with.cr.line</th>\n",
       "      <th>revol.bal</th>\n",
       "      <th>revol.util</th>\n",
       "      <th>inq.last.6mths</th>\n",
       "      <th>delinq.2yrs</th>\n",
       "      <th>pub.rec</th>\n",
       "      <th>not.fully.paid</th>\n",
       "    </tr>\n",
       "  </thead>\n",
       "  <tbody>\n",
       "    <tr>\n",
       "      <th>0</th>\n",
       "      <td>1</td>\n",
       "      <td>debt_consolidation</td>\n",
       "      <td>0.1189</td>\n",
       "      <td>829.10</td>\n",
       "      <td>11.350407</td>\n",
       "      <td>19.48</td>\n",
       "      <td>737</td>\n",
       "      <td>5639.958333</td>\n",
       "      <td>28854</td>\n",
       "      <td>52.1</td>\n",
       "      <td>0</td>\n",
       "      <td>0</td>\n",
       "      <td>0</td>\n",
       "      <td>0</td>\n",
       "    </tr>\n",
       "    <tr>\n",
       "      <th>1</th>\n",
       "      <td>1</td>\n",
       "      <td>credit_card</td>\n",
       "      <td>0.1071</td>\n",
       "      <td>228.22</td>\n",
       "      <td>11.082143</td>\n",
       "      <td>14.29</td>\n",
       "      <td>707</td>\n",
       "      <td>2760.000000</td>\n",
       "      <td>33623</td>\n",
       "      <td>76.7</td>\n",
       "      <td>0</td>\n",
       "      <td>0</td>\n",
       "      <td>0</td>\n",
       "      <td>0</td>\n",
       "    </tr>\n",
       "    <tr>\n",
       "      <th>2</th>\n",
       "      <td>1</td>\n",
       "      <td>debt_consolidation</td>\n",
       "      <td>0.1357</td>\n",
       "      <td>366.86</td>\n",
       "      <td>10.373491</td>\n",
       "      <td>11.63</td>\n",
       "      <td>682</td>\n",
       "      <td>4710.000000</td>\n",
       "      <td>3511</td>\n",
       "      <td>25.6</td>\n",
       "      <td>1</td>\n",
       "      <td>0</td>\n",
       "      <td>0</td>\n",
       "      <td>0</td>\n",
       "    </tr>\n",
       "    <tr>\n",
       "      <th>3</th>\n",
       "      <td>1</td>\n",
       "      <td>debt_consolidation</td>\n",
       "      <td>0.1008</td>\n",
       "      <td>162.34</td>\n",
       "      <td>11.350407</td>\n",
       "      <td>8.10</td>\n",
       "      <td>712</td>\n",
       "      <td>2699.958333</td>\n",
       "      <td>33667</td>\n",
       "      <td>73.2</td>\n",
       "      <td>1</td>\n",
       "      <td>0</td>\n",
       "      <td>0</td>\n",
       "      <td>0</td>\n",
       "    </tr>\n",
       "    <tr>\n",
       "      <th>4</th>\n",
       "      <td>1</td>\n",
       "      <td>credit_card</td>\n",
       "      <td>0.1426</td>\n",
       "      <td>102.92</td>\n",
       "      <td>11.299732</td>\n",
       "      <td>14.97</td>\n",
       "      <td>667</td>\n",
       "      <td>4066.000000</td>\n",
       "      <td>4740</td>\n",
       "      <td>39.5</td>\n",
       "      <td>0</td>\n",
       "      <td>1</td>\n",
       "      <td>0</td>\n",
       "      <td>0</td>\n",
       "    </tr>\n",
       "    <tr>\n",
       "      <th>...</th>\n",
       "      <td>...</td>\n",
       "      <td>...</td>\n",
       "      <td>...</td>\n",
       "      <td>...</td>\n",
       "      <td>...</td>\n",
       "      <td>...</td>\n",
       "      <td>...</td>\n",
       "      <td>...</td>\n",
       "      <td>...</td>\n",
       "      <td>...</td>\n",
       "      <td>...</td>\n",
       "      <td>...</td>\n",
       "      <td>...</td>\n",
       "      <td>...</td>\n",
       "    </tr>\n",
       "    <tr>\n",
       "      <th>9573</th>\n",
       "      <td>0</td>\n",
       "      <td>all_other</td>\n",
       "      <td>0.1461</td>\n",
       "      <td>344.76</td>\n",
       "      <td>12.180755</td>\n",
       "      <td>10.39</td>\n",
       "      <td>672</td>\n",
       "      <td>10474.000000</td>\n",
       "      <td>215372</td>\n",
       "      <td>82.1</td>\n",
       "      <td>2</td>\n",
       "      <td>0</td>\n",
       "      <td>0</td>\n",
       "      <td>1</td>\n",
       "    </tr>\n",
       "    <tr>\n",
       "      <th>9574</th>\n",
       "      <td>0</td>\n",
       "      <td>all_other</td>\n",
       "      <td>0.1253</td>\n",
       "      <td>257.70</td>\n",
       "      <td>11.141862</td>\n",
       "      <td>0.21</td>\n",
       "      <td>722</td>\n",
       "      <td>4380.000000</td>\n",
       "      <td>184</td>\n",
       "      <td>1.1</td>\n",
       "      <td>5</td>\n",
       "      <td>0</td>\n",
       "      <td>0</td>\n",
       "      <td>1</td>\n",
       "    </tr>\n",
       "    <tr>\n",
       "      <th>9575</th>\n",
       "      <td>0</td>\n",
       "      <td>debt_consolidation</td>\n",
       "      <td>0.1071</td>\n",
       "      <td>97.81</td>\n",
       "      <td>10.596635</td>\n",
       "      <td>13.09</td>\n",
       "      <td>687</td>\n",
       "      <td>3450.041667</td>\n",
       "      <td>10036</td>\n",
       "      <td>82.9</td>\n",
       "      <td>8</td>\n",
       "      <td>0</td>\n",
       "      <td>0</td>\n",
       "      <td>1</td>\n",
       "    </tr>\n",
       "    <tr>\n",
       "      <th>9576</th>\n",
       "      <td>0</td>\n",
       "      <td>home_improvement</td>\n",
       "      <td>0.1600</td>\n",
       "      <td>351.58</td>\n",
       "      <td>10.819778</td>\n",
       "      <td>19.18</td>\n",
       "      <td>692</td>\n",
       "      <td>1800.000000</td>\n",
       "      <td>0</td>\n",
       "      <td>3.2</td>\n",
       "      <td>5</td>\n",
       "      <td>0</td>\n",
       "      <td>0</td>\n",
       "      <td>1</td>\n",
       "    </tr>\n",
       "    <tr>\n",
       "      <th>9577</th>\n",
       "      <td>0</td>\n",
       "      <td>debt_consolidation</td>\n",
       "      <td>0.1392</td>\n",
       "      <td>853.43</td>\n",
       "      <td>11.264464</td>\n",
       "      <td>16.28</td>\n",
       "      <td>732</td>\n",
       "      <td>4740.000000</td>\n",
       "      <td>37879</td>\n",
       "      <td>57.0</td>\n",
       "      <td>6</td>\n",
       "      <td>0</td>\n",
       "      <td>0</td>\n",
       "      <td>1</td>\n",
       "    </tr>\n",
       "  </tbody>\n",
       "</table>\n",
       "<p>9578 rows × 14 columns</p>\n",
       "</div>"
      ],
      "text/plain": [
       "      credit.policy             purpose  int.rate  installment  \\\n",
       "0                 1  debt_consolidation    0.1189       829.10   \n",
       "1                 1         credit_card    0.1071       228.22   \n",
       "2                 1  debt_consolidation    0.1357       366.86   \n",
       "3                 1  debt_consolidation    0.1008       162.34   \n",
       "4                 1         credit_card    0.1426       102.92   \n",
       "...             ...                 ...       ...          ...   \n",
       "9573              0           all_other    0.1461       344.76   \n",
       "9574              0           all_other    0.1253       257.70   \n",
       "9575              0  debt_consolidation    0.1071        97.81   \n",
       "9576              0    home_improvement    0.1600       351.58   \n",
       "9577              0  debt_consolidation    0.1392       853.43   \n",
       "\n",
       "      log.annual.inc    dti  fico  days.with.cr.line  revol.bal  revol.util  \\\n",
       "0          11.350407  19.48   737        5639.958333      28854        52.1   \n",
       "1          11.082143  14.29   707        2760.000000      33623        76.7   \n",
       "2          10.373491  11.63   682        4710.000000       3511        25.6   \n",
       "3          11.350407   8.10   712        2699.958333      33667        73.2   \n",
       "4          11.299732  14.97   667        4066.000000       4740        39.5   \n",
       "...              ...    ...   ...                ...        ...         ...   \n",
       "9573       12.180755  10.39   672       10474.000000     215372        82.1   \n",
       "9574       11.141862   0.21   722        4380.000000        184         1.1   \n",
       "9575       10.596635  13.09   687        3450.041667      10036        82.9   \n",
       "9576       10.819778  19.18   692        1800.000000          0         3.2   \n",
       "9577       11.264464  16.28   732        4740.000000      37879        57.0   \n",
       "\n",
       "      inq.last.6mths  delinq.2yrs  pub.rec  not.fully.paid  \n",
       "0                  0            0        0               0  \n",
       "1                  0            0        0               0  \n",
       "2                  1            0        0               0  \n",
       "3                  1            0        0               0  \n",
       "4                  0            1        0               0  \n",
       "...              ...          ...      ...             ...  \n",
       "9573               2            0        0               1  \n",
       "9574               5            0        0               1  \n",
       "9575               8            0        0               1  \n",
       "9576               5            0        0               1  \n",
       "9577               6            0        0               1  \n",
       "\n",
       "[9578 rows x 14 columns]"
      ]
     },
     "execution_count": 2,
     "metadata": {},
     "output_type": "execute_result"
    }
   ],
   "source": [
    "import os\n",
    "import pandas as pd\n",
    "import seaborn as sns\n",
    "import matplotlib.pyplot as plt\n",
    "os.chdir(r'C:\\Users\\63094\\Downloads\\hero wired\\datacsv')\n",
    "os.listdir()\n",
    "df=pd.read_csv('Dataset (4).csv')\n",
    "df\n"
   ]
  },
  {
   "cell_type": "code",
   "execution_count": 3,
   "id": "c54e82c1",
   "metadata": {},
   "outputs": [],
   "source": [
    "x=df.drop(['not.fully.paid'],axis=1)\n",
    "y=df['not.fully.paid']"
   ]
  },
  {
   "cell_type": "code",
   "execution_count": 4,
   "id": "b7616067",
   "metadata": {},
   "outputs": [
    {
     "data": {
      "text/plain": [
       "(9578, 13)"
      ]
     },
     "execution_count": 4,
     "metadata": {},
     "output_type": "execute_result"
    }
   ],
   "source": [
    "x.shape"
   ]
  },
  {
   "cell_type": "code",
   "execution_count": 5,
   "id": "13bde27b",
   "metadata": {},
   "outputs": [
    {
     "data": {
      "text/html": [
       "<div>\n",
       "<style scoped>\n",
       "    .dataframe tbody tr th:only-of-type {\n",
       "        vertical-align: middle;\n",
       "    }\n",
       "\n",
       "    .dataframe tbody tr th {\n",
       "        vertical-align: top;\n",
       "    }\n",
       "\n",
       "    .dataframe thead th {\n",
       "        text-align: right;\n",
       "    }\n",
       "</style>\n",
       "<table border=\"1\" class=\"dataframe\">\n",
       "  <thead>\n",
       "    <tr style=\"text-align: right;\">\n",
       "      <th></th>\n",
       "      <th>credit.policy</th>\n",
       "      <th>int.rate</th>\n",
       "      <th>installment</th>\n",
       "      <th>log.annual.inc</th>\n",
       "      <th>dti</th>\n",
       "      <th>fico</th>\n",
       "      <th>days.with.cr.line</th>\n",
       "      <th>revol.bal</th>\n",
       "      <th>revol.util</th>\n",
       "      <th>inq.last.6mths</th>\n",
       "      <th>delinq.2yrs</th>\n",
       "      <th>pub.rec</th>\n",
       "      <th>purpose_all_other</th>\n",
       "      <th>purpose_credit_card</th>\n",
       "      <th>purpose_debt_consolidation</th>\n",
       "      <th>purpose_educational</th>\n",
       "      <th>purpose_home_improvement</th>\n",
       "      <th>purpose_major_purchase</th>\n",
       "      <th>purpose_small_business</th>\n",
       "    </tr>\n",
       "  </thead>\n",
       "  <tbody>\n",
       "    <tr>\n",
       "      <th>0</th>\n",
       "      <td>1</td>\n",
       "      <td>0.1189</td>\n",
       "      <td>829.10</td>\n",
       "      <td>11.350407</td>\n",
       "      <td>19.48</td>\n",
       "      <td>737</td>\n",
       "      <td>5639.958333</td>\n",
       "      <td>28854</td>\n",
       "      <td>52.1</td>\n",
       "      <td>0</td>\n",
       "      <td>0</td>\n",
       "      <td>0</td>\n",
       "      <td>0</td>\n",
       "      <td>0</td>\n",
       "      <td>1</td>\n",
       "      <td>0</td>\n",
       "      <td>0</td>\n",
       "      <td>0</td>\n",
       "      <td>0</td>\n",
       "    </tr>\n",
       "    <tr>\n",
       "      <th>1</th>\n",
       "      <td>1</td>\n",
       "      <td>0.1071</td>\n",
       "      <td>228.22</td>\n",
       "      <td>11.082143</td>\n",
       "      <td>14.29</td>\n",
       "      <td>707</td>\n",
       "      <td>2760.000000</td>\n",
       "      <td>33623</td>\n",
       "      <td>76.7</td>\n",
       "      <td>0</td>\n",
       "      <td>0</td>\n",
       "      <td>0</td>\n",
       "      <td>0</td>\n",
       "      <td>1</td>\n",
       "      <td>0</td>\n",
       "      <td>0</td>\n",
       "      <td>0</td>\n",
       "      <td>0</td>\n",
       "      <td>0</td>\n",
       "    </tr>\n",
       "    <tr>\n",
       "      <th>2</th>\n",
       "      <td>1</td>\n",
       "      <td>0.1357</td>\n",
       "      <td>366.86</td>\n",
       "      <td>10.373491</td>\n",
       "      <td>11.63</td>\n",
       "      <td>682</td>\n",
       "      <td>4710.000000</td>\n",
       "      <td>3511</td>\n",
       "      <td>25.6</td>\n",
       "      <td>1</td>\n",
       "      <td>0</td>\n",
       "      <td>0</td>\n",
       "      <td>0</td>\n",
       "      <td>0</td>\n",
       "      <td>1</td>\n",
       "      <td>0</td>\n",
       "      <td>0</td>\n",
       "      <td>0</td>\n",
       "      <td>0</td>\n",
       "    </tr>\n",
       "    <tr>\n",
       "      <th>3</th>\n",
       "      <td>1</td>\n",
       "      <td>0.1008</td>\n",
       "      <td>162.34</td>\n",
       "      <td>11.350407</td>\n",
       "      <td>8.10</td>\n",
       "      <td>712</td>\n",
       "      <td>2699.958333</td>\n",
       "      <td>33667</td>\n",
       "      <td>73.2</td>\n",
       "      <td>1</td>\n",
       "      <td>0</td>\n",
       "      <td>0</td>\n",
       "      <td>0</td>\n",
       "      <td>0</td>\n",
       "      <td>1</td>\n",
       "      <td>0</td>\n",
       "      <td>0</td>\n",
       "      <td>0</td>\n",
       "      <td>0</td>\n",
       "    </tr>\n",
       "    <tr>\n",
       "      <th>4</th>\n",
       "      <td>1</td>\n",
       "      <td>0.1426</td>\n",
       "      <td>102.92</td>\n",
       "      <td>11.299732</td>\n",
       "      <td>14.97</td>\n",
       "      <td>667</td>\n",
       "      <td>4066.000000</td>\n",
       "      <td>4740</td>\n",
       "      <td>39.5</td>\n",
       "      <td>0</td>\n",
       "      <td>1</td>\n",
       "      <td>0</td>\n",
       "      <td>0</td>\n",
       "      <td>1</td>\n",
       "      <td>0</td>\n",
       "      <td>0</td>\n",
       "      <td>0</td>\n",
       "      <td>0</td>\n",
       "      <td>0</td>\n",
       "    </tr>\n",
       "    <tr>\n",
       "      <th>...</th>\n",
       "      <td>...</td>\n",
       "      <td>...</td>\n",
       "      <td>...</td>\n",
       "      <td>...</td>\n",
       "      <td>...</td>\n",
       "      <td>...</td>\n",
       "      <td>...</td>\n",
       "      <td>...</td>\n",
       "      <td>...</td>\n",
       "      <td>...</td>\n",
       "      <td>...</td>\n",
       "      <td>...</td>\n",
       "      <td>...</td>\n",
       "      <td>...</td>\n",
       "      <td>...</td>\n",
       "      <td>...</td>\n",
       "      <td>...</td>\n",
       "      <td>...</td>\n",
       "      <td>...</td>\n",
       "    </tr>\n",
       "    <tr>\n",
       "      <th>9573</th>\n",
       "      <td>0</td>\n",
       "      <td>0.1461</td>\n",
       "      <td>344.76</td>\n",
       "      <td>12.180755</td>\n",
       "      <td>10.39</td>\n",
       "      <td>672</td>\n",
       "      <td>10474.000000</td>\n",
       "      <td>215372</td>\n",
       "      <td>82.1</td>\n",
       "      <td>2</td>\n",
       "      <td>0</td>\n",
       "      <td>0</td>\n",
       "      <td>1</td>\n",
       "      <td>0</td>\n",
       "      <td>0</td>\n",
       "      <td>0</td>\n",
       "      <td>0</td>\n",
       "      <td>0</td>\n",
       "      <td>0</td>\n",
       "    </tr>\n",
       "    <tr>\n",
       "      <th>9574</th>\n",
       "      <td>0</td>\n",
       "      <td>0.1253</td>\n",
       "      <td>257.70</td>\n",
       "      <td>11.141862</td>\n",
       "      <td>0.21</td>\n",
       "      <td>722</td>\n",
       "      <td>4380.000000</td>\n",
       "      <td>184</td>\n",
       "      <td>1.1</td>\n",
       "      <td>5</td>\n",
       "      <td>0</td>\n",
       "      <td>0</td>\n",
       "      <td>1</td>\n",
       "      <td>0</td>\n",
       "      <td>0</td>\n",
       "      <td>0</td>\n",
       "      <td>0</td>\n",
       "      <td>0</td>\n",
       "      <td>0</td>\n",
       "    </tr>\n",
       "    <tr>\n",
       "      <th>9575</th>\n",
       "      <td>0</td>\n",
       "      <td>0.1071</td>\n",
       "      <td>97.81</td>\n",
       "      <td>10.596635</td>\n",
       "      <td>13.09</td>\n",
       "      <td>687</td>\n",
       "      <td>3450.041667</td>\n",
       "      <td>10036</td>\n",
       "      <td>82.9</td>\n",
       "      <td>8</td>\n",
       "      <td>0</td>\n",
       "      <td>0</td>\n",
       "      <td>0</td>\n",
       "      <td>0</td>\n",
       "      <td>1</td>\n",
       "      <td>0</td>\n",
       "      <td>0</td>\n",
       "      <td>0</td>\n",
       "      <td>0</td>\n",
       "    </tr>\n",
       "    <tr>\n",
       "      <th>9576</th>\n",
       "      <td>0</td>\n",
       "      <td>0.1600</td>\n",
       "      <td>351.58</td>\n",
       "      <td>10.819778</td>\n",
       "      <td>19.18</td>\n",
       "      <td>692</td>\n",
       "      <td>1800.000000</td>\n",
       "      <td>0</td>\n",
       "      <td>3.2</td>\n",
       "      <td>5</td>\n",
       "      <td>0</td>\n",
       "      <td>0</td>\n",
       "      <td>0</td>\n",
       "      <td>0</td>\n",
       "      <td>0</td>\n",
       "      <td>0</td>\n",
       "      <td>1</td>\n",
       "      <td>0</td>\n",
       "      <td>0</td>\n",
       "    </tr>\n",
       "    <tr>\n",
       "      <th>9577</th>\n",
       "      <td>0</td>\n",
       "      <td>0.1392</td>\n",
       "      <td>853.43</td>\n",
       "      <td>11.264464</td>\n",
       "      <td>16.28</td>\n",
       "      <td>732</td>\n",
       "      <td>4740.000000</td>\n",
       "      <td>37879</td>\n",
       "      <td>57.0</td>\n",
       "      <td>6</td>\n",
       "      <td>0</td>\n",
       "      <td>0</td>\n",
       "      <td>0</td>\n",
       "      <td>0</td>\n",
       "      <td>1</td>\n",
       "      <td>0</td>\n",
       "      <td>0</td>\n",
       "      <td>0</td>\n",
       "      <td>0</td>\n",
       "    </tr>\n",
       "  </tbody>\n",
       "</table>\n",
       "<p>9578 rows × 19 columns</p>\n",
       "</div>"
      ],
      "text/plain": [
       "      credit.policy  int.rate  installment  log.annual.inc    dti  fico  \\\n",
       "0                 1    0.1189       829.10       11.350407  19.48   737   \n",
       "1                 1    0.1071       228.22       11.082143  14.29   707   \n",
       "2                 1    0.1357       366.86       10.373491  11.63   682   \n",
       "3                 1    0.1008       162.34       11.350407   8.10   712   \n",
       "4                 1    0.1426       102.92       11.299732  14.97   667   \n",
       "...             ...       ...          ...             ...    ...   ...   \n",
       "9573              0    0.1461       344.76       12.180755  10.39   672   \n",
       "9574              0    0.1253       257.70       11.141862   0.21   722   \n",
       "9575              0    0.1071        97.81       10.596635  13.09   687   \n",
       "9576              0    0.1600       351.58       10.819778  19.18   692   \n",
       "9577              0    0.1392       853.43       11.264464  16.28   732   \n",
       "\n",
       "      days.with.cr.line  revol.bal  revol.util  inq.last.6mths  delinq.2yrs  \\\n",
       "0           5639.958333      28854        52.1               0            0   \n",
       "1           2760.000000      33623        76.7               0            0   \n",
       "2           4710.000000       3511        25.6               1            0   \n",
       "3           2699.958333      33667        73.2               1            0   \n",
       "4           4066.000000       4740        39.5               0            1   \n",
       "...                 ...        ...         ...             ...          ...   \n",
       "9573       10474.000000     215372        82.1               2            0   \n",
       "9574        4380.000000        184         1.1               5            0   \n",
       "9575        3450.041667      10036        82.9               8            0   \n",
       "9576        1800.000000          0         3.2               5            0   \n",
       "9577        4740.000000      37879        57.0               6            0   \n",
       "\n",
       "      pub.rec  purpose_all_other  purpose_credit_card  \\\n",
       "0           0                  0                    0   \n",
       "1           0                  0                    1   \n",
       "2           0                  0                    0   \n",
       "3           0                  0                    0   \n",
       "4           0                  0                    1   \n",
       "...       ...                ...                  ...   \n",
       "9573        0                  1                    0   \n",
       "9574        0                  1                    0   \n",
       "9575        0                  0                    0   \n",
       "9576        0                  0                    0   \n",
       "9577        0                  0                    0   \n",
       "\n",
       "      purpose_debt_consolidation  purpose_educational  \\\n",
       "0                              1                    0   \n",
       "1                              0                    0   \n",
       "2                              1                    0   \n",
       "3                              1                    0   \n",
       "4                              0                    0   \n",
       "...                          ...                  ...   \n",
       "9573                           0                    0   \n",
       "9574                           0                    0   \n",
       "9575                           1                    0   \n",
       "9576                           0                    0   \n",
       "9577                           1                    0   \n",
       "\n",
       "      purpose_home_improvement  purpose_major_purchase  purpose_small_business  \n",
       "0                            0                       0                       0  \n",
       "1                            0                       0                       0  \n",
       "2                            0                       0                       0  \n",
       "3                            0                       0                       0  \n",
       "4                            0                       0                       0  \n",
       "...                        ...                     ...                     ...  \n",
       "9573                         0                       0                       0  \n",
       "9574                         0                       0                       0  \n",
       "9575                         0                       0                       0  \n",
       "9576                         1                       0                       0  \n",
       "9577                         0                       0                       0  \n",
       "\n",
       "[9578 rows x 19 columns]"
      ]
     },
     "execution_count": 5,
     "metadata": {},
     "output_type": "execute_result"
    }
   ],
   "source": [
    "df1=pd.get_dummies(x)\n",
    "df1"
   ]
  },
  {
   "cell_type": "markdown",
   "id": "a7873764",
   "metadata": {},
   "source": [
    "### for principal component anlysis we need to scale the data"
   ]
  },
  {
   "cell_type": "markdown",
   "id": "c3173056",
   "metadata": {},
   "source": [
    "### but there is one  mistory why we need scaling?????\n",
    "### PCA tries to get the features with maximum variance and the variance is high for high magnitude features.\n",
    "\n",
    "This skews the PCA towards high magnitude features —which might lead to improper selection of principle components.\n",
    "\n",
    "That’s why we require feature scaling before applying PCA (Standardization , not normalization)\n",
    "\n",
    "It is essential to perform feature scaling before running PCA if there is a significant difference in the scale between the features of the dataset;\n",
    "for example, one feature ranges in values between 0 and 1 and another between 100 and 1,000. PCA is very sensitive to the relative ranges of the original features."
   ]
  },
  {
   "cell_type": "code",
   "execution_count": 6,
   "id": "6549bb81",
   "metadata": {},
   "outputs": [
    {
     "data": {
      "text/plain": [
       "StandardScaler()"
      ]
     },
     "execution_count": 6,
     "metadata": {},
     "output_type": "execute_result"
    }
   ],
   "source": [
    "from sklearn.preprocessing import StandardScaler\n",
    "scalar=StandardScaler()\n",
    "scalar.fit(df1)"
   ]
  },
  {
   "cell_type": "code",
   "execution_count": 7,
   "id": "9a1133ff",
   "metadata": {},
   "outputs": [
    {
     "data": {
      "text/html": [
       "<div>\n",
       "<style scoped>\n",
       "    .dataframe tbody tr th:only-of-type {\n",
       "        vertical-align: middle;\n",
       "    }\n",
       "\n",
       "    .dataframe tbody tr th {\n",
       "        vertical-align: top;\n",
       "    }\n",
       "\n",
       "    .dataframe thead th {\n",
       "        text-align: right;\n",
       "    }\n",
       "</style>\n",
       "<table border=\"1\" class=\"dataframe\">\n",
       "  <thead>\n",
       "    <tr style=\"text-align: right;\">\n",
       "      <th></th>\n",
       "      <th>credit.policy</th>\n",
       "      <th>int.rate</th>\n",
       "      <th>installment</th>\n",
       "      <th>log.annual.inc</th>\n",
       "      <th>dti</th>\n",
       "      <th>fico</th>\n",
       "      <th>days.with.cr.line</th>\n",
       "      <th>revol.bal</th>\n",
       "      <th>revol.util</th>\n",
       "      <th>inq.last.6mths</th>\n",
       "      <th>delinq.2yrs</th>\n",
       "      <th>pub.rec</th>\n",
       "      <th>purpose_all_other</th>\n",
       "      <th>purpose_credit_card</th>\n",
       "      <th>purpose_debt_consolidation</th>\n",
       "      <th>purpose_educational</th>\n",
       "      <th>purpose_home_improvement</th>\n",
       "      <th>purpose_major_purchase</th>\n",
       "      <th>purpose_small_business</th>\n",
       "    </tr>\n",
       "  </thead>\n",
       "  <tbody>\n",
       "    <tr>\n",
       "      <th>0</th>\n",
       "      <td>0.492222</td>\n",
       "      <td>-0.139318</td>\n",
       "      <td>2.463099</td>\n",
       "      <td>0.680388</td>\n",
       "      <td>0.998505</td>\n",
       "      <td>0.688825</td>\n",
       "      <td>0.432230</td>\n",
       "      <td>0.353732</td>\n",
       "      <td>0.182704</td>\n",
       "      <td>-0.716989</td>\n",
       "      <td>-0.299730</td>\n",
       "      <td>-0.237003</td>\n",
       "      <td>-0.567142</td>\n",
       "      <td>-0.389558</td>\n",
       "      <td>1.191856</td>\n",
       "      <td>-0.192721</td>\n",
       "      <td>-0.265117</td>\n",
       "      <td>-0.218647</td>\n",
       "      <td>-0.262855</td>\n",
       "    </tr>\n",
       "    <tr>\n",
       "      <th>1</th>\n",
       "      <td>0.492222</td>\n",
       "      <td>-0.578868</td>\n",
       "      <td>-0.438854</td>\n",
       "      <td>0.244031</td>\n",
       "      <td>0.244540</td>\n",
       "      <td>-0.101303</td>\n",
       "      <td>-0.721230</td>\n",
       "      <td>0.495018</td>\n",
       "      <td>1.030602</td>\n",
       "      <td>-0.716989</td>\n",
       "      <td>-0.299730</td>\n",
       "      <td>-0.237003</td>\n",
       "      <td>-0.567142</td>\n",
       "      <td>2.567010</td>\n",
       "      <td>-0.839028</td>\n",
       "      <td>-0.192721</td>\n",
       "      <td>-0.265117</td>\n",
       "      <td>-0.218647</td>\n",
       "      <td>-0.262855</td>\n",
       "    </tr>\n",
       "    <tr>\n",
       "      <th>2</th>\n",
       "      <td>0.492222</td>\n",
       "      <td>0.486484</td>\n",
       "      <td>0.230708</td>\n",
       "      <td>-0.908659</td>\n",
       "      <td>-0.141885</td>\n",
       "      <td>-0.759742</td>\n",
       "      <td>0.059770</td>\n",
       "      <td>-0.397073</td>\n",
       "      <td>-0.730683</td>\n",
       "      <td>-0.262470</td>\n",
       "      <td>-0.299730</td>\n",
       "      <td>-0.237003</td>\n",
       "      <td>-0.567142</td>\n",
       "      <td>-0.389558</td>\n",
       "      <td>1.191856</td>\n",
       "      <td>-0.192721</td>\n",
       "      <td>-0.265117</td>\n",
       "      <td>-0.218647</td>\n",
       "      <td>-0.262855</td>\n",
       "    </tr>\n",
       "    <tr>\n",
       "      <th>3</th>\n",
       "      <td>0.492222</td>\n",
       "      <td>-0.813544</td>\n",
       "      <td>-0.757022</td>\n",
       "      <td>0.680388</td>\n",
       "      <td>-0.654697</td>\n",
       "      <td>0.030385</td>\n",
       "      <td>-0.745277</td>\n",
       "      <td>0.496321</td>\n",
       "      <td>0.909966</td>\n",
       "      <td>-0.262470</td>\n",
       "      <td>-0.299730</td>\n",
       "      <td>-0.237003</td>\n",
       "      <td>-0.567142</td>\n",
       "      <td>-0.389558</td>\n",
       "      <td>1.191856</td>\n",
       "      <td>-0.192721</td>\n",
       "      <td>-0.265117</td>\n",
       "      <td>-0.218647</td>\n",
       "      <td>-0.262855</td>\n",
       "    </tr>\n",
       "    <tr>\n",
       "      <th>4</th>\n",
       "      <td>0.492222</td>\n",
       "      <td>0.743509</td>\n",
       "      <td>-1.043992</td>\n",
       "      <td>0.597961</td>\n",
       "      <td>0.343326</td>\n",
       "      <td>-1.154806</td>\n",
       "      <td>-0.198161</td>\n",
       "      <td>-0.360663</td>\n",
       "      <td>-0.251586</td>\n",
       "      <td>-0.716989</td>\n",
       "      <td>1.531147</td>\n",
       "      <td>-0.237003</td>\n",
       "      <td>-0.567142</td>\n",
       "      <td>2.567010</td>\n",
       "      <td>-0.839028</td>\n",
       "      <td>-0.192721</td>\n",
       "      <td>-0.265117</td>\n",
       "      <td>-0.218647</td>\n",
       "      <td>-0.262855</td>\n",
       "    </tr>\n",
       "    <tr>\n",
       "      <th>...</th>\n",
       "      <td>...</td>\n",
       "      <td>...</td>\n",
       "      <td>...</td>\n",
       "      <td>...</td>\n",
       "      <td>...</td>\n",
       "      <td>...</td>\n",
       "      <td>...</td>\n",
       "      <td>...</td>\n",
       "      <td>...</td>\n",
       "      <td>...</td>\n",
       "      <td>...</td>\n",
       "      <td>...</td>\n",
       "      <td>...</td>\n",
       "      <td>...</td>\n",
       "      <td>...</td>\n",
       "      <td>...</td>\n",
       "      <td>...</td>\n",
       "      <td>...</td>\n",
       "      <td>...</td>\n",
       "    </tr>\n",
       "    <tr>\n",
       "      <th>9573</th>\n",
       "      <td>-2.031603</td>\n",
       "      <td>0.873884</td>\n",
       "      <td>0.123976</td>\n",
       "      <td>2.031030</td>\n",
       "      <td>-0.322023</td>\n",
       "      <td>-1.023118</td>\n",
       "      <td>2.368325</td>\n",
       "      <td>5.879467</td>\n",
       "      <td>1.216726</td>\n",
       "      <td>0.192048</td>\n",
       "      <td>-0.299730</td>\n",
       "      <td>-0.237003</td>\n",
       "      <td>1.763226</td>\n",
       "      <td>-0.389558</td>\n",
       "      <td>-0.839028</td>\n",
       "      <td>-0.192721</td>\n",
       "      <td>-0.265117</td>\n",
       "      <td>-0.218647</td>\n",
       "      <td>-0.262855</td>\n",
       "    </tr>\n",
       "    <tr>\n",
       "      <th>9574</th>\n",
       "      <td>-2.031603</td>\n",
       "      <td>0.099083</td>\n",
       "      <td>-0.296481</td>\n",
       "      <td>0.341170</td>\n",
       "      <td>-1.800898</td>\n",
       "      <td>0.293761</td>\n",
       "      <td>-0.072400</td>\n",
       "      <td>-0.495638</td>\n",
       "      <td>-1.575135</td>\n",
       "      <td>1.555604</td>\n",
       "      <td>-0.299730</td>\n",
       "      <td>-0.237003</td>\n",
       "      <td>1.763226</td>\n",
       "      <td>-0.389558</td>\n",
       "      <td>-0.839028</td>\n",
       "      <td>-0.192721</td>\n",
       "      <td>-0.265117</td>\n",
       "      <td>-0.218647</td>\n",
       "      <td>-0.262855</td>\n",
       "    </tr>\n",
       "    <tr>\n",
       "      <th>9575</th>\n",
       "      <td>-2.031603</td>\n",
       "      <td>-0.578868</td>\n",
       "      <td>-1.068670</td>\n",
       "      <td>-0.545694</td>\n",
       "      <td>0.070213</td>\n",
       "      <td>-0.628054</td>\n",
       "      <td>-0.444860</td>\n",
       "      <td>-0.203765</td>\n",
       "      <td>1.244300</td>\n",
       "      <td>2.919159</td>\n",
       "      <td>-0.299730</td>\n",
       "      <td>-0.237003</td>\n",
       "      <td>-0.567142</td>\n",
       "      <td>-0.389558</td>\n",
       "      <td>1.191856</td>\n",
       "      <td>-0.192721</td>\n",
       "      <td>-0.265117</td>\n",
       "      <td>-0.218647</td>\n",
       "      <td>-0.262855</td>\n",
       "    </tr>\n",
       "    <tr>\n",
       "      <th>9576</th>\n",
       "      <td>-2.031603</td>\n",
       "      <td>1.391660</td>\n",
       "      <td>0.156914</td>\n",
       "      <td>-0.182730</td>\n",
       "      <td>0.954924</td>\n",
       "      <td>-0.496366</td>\n",
       "      <td>-1.105722</td>\n",
       "      <td>-0.501089</td>\n",
       "      <td>-1.502753</td>\n",
       "      <td>1.555604</td>\n",
       "      <td>-0.299730</td>\n",
       "      <td>-0.237003</td>\n",
       "      <td>-0.567142</td>\n",
       "      <td>-0.389558</td>\n",
       "      <td>-0.839028</td>\n",
       "      <td>-0.192721</td>\n",
       "      <td>3.771915</td>\n",
       "      <td>-0.218647</td>\n",
       "      <td>-0.262855</td>\n",
       "    </tr>\n",
       "    <tr>\n",
       "      <th>9577</th>\n",
       "      <td>-2.031603</td>\n",
       "      <td>0.616859</td>\n",
       "      <td>2.580601</td>\n",
       "      <td>0.540594</td>\n",
       "      <td>0.533633</td>\n",
       "      <td>0.557137</td>\n",
       "      <td>0.071785</td>\n",
       "      <td>0.621105</td>\n",
       "      <td>0.351594</td>\n",
       "      <td>2.010122</td>\n",
       "      <td>-0.299730</td>\n",
       "      <td>-0.237003</td>\n",
       "      <td>-0.567142</td>\n",
       "      <td>-0.389558</td>\n",
       "      <td>1.191856</td>\n",
       "      <td>-0.192721</td>\n",
       "      <td>-0.265117</td>\n",
       "      <td>-0.218647</td>\n",
       "      <td>-0.262855</td>\n",
       "    </tr>\n",
       "  </tbody>\n",
       "</table>\n",
       "<p>9578 rows × 19 columns</p>\n",
       "</div>"
      ],
      "text/plain": [
       "      credit.policy  int.rate  installment  log.annual.inc       dti  \\\n",
       "0          0.492222 -0.139318     2.463099        0.680388  0.998505   \n",
       "1          0.492222 -0.578868    -0.438854        0.244031  0.244540   \n",
       "2          0.492222  0.486484     0.230708       -0.908659 -0.141885   \n",
       "3          0.492222 -0.813544    -0.757022        0.680388 -0.654697   \n",
       "4          0.492222  0.743509    -1.043992        0.597961  0.343326   \n",
       "...             ...       ...          ...             ...       ...   \n",
       "9573      -2.031603  0.873884     0.123976        2.031030 -0.322023   \n",
       "9574      -2.031603  0.099083    -0.296481        0.341170 -1.800898   \n",
       "9575      -2.031603 -0.578868    -1.068670       -0.545694  0.070213   \n",
       "9576      -2.031603  1.391660     0.156914       -0.182730  0.954924   \n",
       "9577      -2.031603  0.616859     2.580601        0.540594  0.533633   \n",
       "\n",
       "          fico  days.with.cr.line  revol.bal  revol.util  inq.last.6mths  \\\n",
       "0     0.688825           0.432230   0.353732    0.182704       -0.716989   \n",
       "1    -0.101303          -0.721230   0.495018    1.030602       -0.716989   \n",
       "2    -0.759742           0.059770  -0.397073   -0.730683       -0.262470   \n",
       "3     0.030385          -0.745277   0.496321    0.909966       -0.262470   \n",
       "4    -1.154806          -0.198161  -0.360663   -0.251586       -0.716989   \n",
       "...        ...                ...        ...         ...             ...   \n",
       "9573 -1.023118           2.368325   5.879467    1.216726        0.192048   \n",
       "9574  0.293761          -0.072400  -0.495638   -1.575135        1.555604   \n",
       "9575 -0.628054          -0.444860  -0.203765    1.244300        2.919159   \n",
       "9576 -0.496366          -1.105722  -0.501089   -1.502753        1.555604   \n",
       "9577  0.557137           0.071785   0.621105    0.351594        2.010122   \n",
       "\n",
       "      delinq.2yrs   pub.rec  purpose_all_other  purpose_credit_card  \\\n",
       "0       -0.299730 -0.237003          -0.567142            -0.389558   \n",
       "1       -0.299730 -0.237003          -0.567142             2.567010   \n",
       "2       -0.299730 -0.237003          -0.567142            -0.389558   \n",
       "3       -0.299730 -0.237003          -0.567142            -0.389558   \n",
       "4        1.531147 -0.237003          -0.567142             2.567010   \n",
       "...           ...       ...                ...                  ...   \n",
       "9573    -0.299730 -0.237003           1.763226            -0.389558   \n",
       "9574    -0.299730 -0.237003           1.763226            -0.389558   \n",
       "9575    -0.299730 -0.237003          -0.567142            -0.389558   \n",
       "9576    -0.299730 -0.237003          -0.567142            -0.389558   \n",
       "9577    -0.299730 -0.237003          -0.567142            -0.389558   \n",
       "\n",
       "      purpose_debt_consolidation  purpose_educational  \\\n",
       "0                       1.191856            -0.192721   \n",
       "1                      -0.839028            -0.192721   \n",
       "2                       1.191856            -0.192721   \n",
       "3                       1.191856            -0.192721   \n",
       "4                      -0.839028            -0.192721   \n",
       "...                          ...                  ...   \n",
       "9573                   -0.839028            -0.192721   \n",
       "9574                   -0.839028            -0.192721   \n",
       "9575                    1.191856            -0.192721   \n",
       "9576                   -0.839028            -0.192721   \n",
       "9577                    1.191856            -0.192721   \n",
       "\n",
       "      purpose_home_improvement  purpose_major_purchase  purpose_small_business  \n",
       "0                    -0.265117               -0.218647               -0.262855  \n",
       "1                    -0.265117               -0.218647               -0.262855  \n",
       "2                    -0.265117               -0.218647               -0.262855  \n",
       "3                    -0.265117               -0.218647               -0.262855  \n",
       "4                    -0.265117               -0.218647               -0.262855  \n",
       "...                        ...                     ...                     ...  \n",
       "9573                 -0.265117               -0.218647               -0.262855  \n",
       "9574                 -0.265117               -0.218647               -0.262855  \n",
       "9575                 -0.265117               -0.218647               -0.262855  \n",
       "9576                  3.771915               -0.218647               -0.262855  \n",
       "9577                 -0.265117               -0.218647               -0.262855  \n",
       "\n",
       "[9578 rows x 19 columns]"
      ]
     },
     "execution_count": 7,
     "metadata": {},
     "output_type": "execute_result"
    }
   ],
   "source": [
    "df_sc=scalar.transform(df1)\n",
    "df_sc\n",
    "pd.DataFrame(df_sc,columns=df1.columns)"
   ]
  },
  {
   "cell_type": "markdown",
   "id": "faf066ff",
   "metadata": {},
   "source": [
    "###  after scaling the data we apply the P.C.A"
   ]
  },
  {
   "cell_type": "code",
   "execution_count": 8,
   "id": "7251a873",
   "metadata": {},
   "outputs": [],
   "source": [
    "from sklearn.decomposition import PCA\n",
    "pca=PCA(n_components=2,random_state=23)"
   ]
  },
  {
   "cell_type": "code",
   "execution_count": 9,
   "id": "6d7252f2",
   "metadata": {},
   "outputs": [
    {
     "data": {
      "text/plain": [
       "PCA(n_components=2, random_state=23)"
      ]
     },
     "execution_count": 9,
     "metadata": {},
     "output_type": "execute_result"
    }
   ],
   "source": [
    "pca.fit(df_sc)"
   ]
  },
  {
   "cell_type": "code",
   "execution_count": 10,
   "id": "01f95614",
   "metadata": {},
   "outputs": [],
   "source": [
    "df_sc_pca=pca.fit_transform(df_sc)"
   ]
  },
  {
   "cell_type": "code",
   "execution_count": 11,
   "id": "7be3bf3a",
   "metadata": {},
   "outputs": [
    {
     "data": {
      "text/plain": [
       "array([[ 0.41897372,  2.37629418],\n",
       "       [ 0.0279028 ,  0.30660016],\n",
       "       [ 0.32446602, -0.40319429],\n",
       "       ...,\n",
       "       [ 1.85866768, -1.64221093],\n",
       "       [ 0.97505343, -0.92111697],\n",
       "       [ 2.10222339,  1.46383339]])"
      ]
     },
     "execution_count": 11,
     "metadata": {},
     "output_type": "execute_result"
    }
   ],
   "source": [
    "df_sc_pca"
   ]
  },
  {
   "cell_type": "code",
   "execution_count": 12,
   "id": "da869568",
   "metadata": {},
   "outputs": [
    {
     "data": {
      "text/html": [
       "<div>\n",
       "<style scoped>\n",
       "    .dataframe tbody tr th:only-of-type {\n",
       "        vertical-align: middle;\n",
       "    }\n",
       "\n",
       "    .dataframe tbody tr th {\n",
       "        vertical-align: top;\n",
       "    }\n",
       "\n",
       "    .dataframe thead th {\n",
       "        text-align: right;\n",
       "    }\n",
       "</style>\n",
       "<table border=\"1\" class=\"dataframe\">\n",
       "  <thead>\n",
       "    <tr style=\"text-align: right;\">\n",
       "      <th></th>\n",
       "      <th>pc1</th>\n",
       "      <th>pc2</th>\n",
       "    </tr>\n",
       "  </thead>\n",
       "  <tbody>\n",
       "    <tr>\n",
       "      <th>0</th>\n",
       "      <td>0.418974</td>\n",
       "      <td>2.376294</td>\n",
       "    </tr>\n",
       "    <tr>\n",
       "      <th>1</th>\n",
       "      <td>0.027903</td>\n",
       "      <td>0.306600</td>\n",
       "    </tr>\n",
       "    <tr>\n",
       "      <th>2</th>\n",
       "      <td>0.324466</td>\n",
       "      <td>-0.403194</td>\n",
       "    </tr>\n",
       "    <tr>\n",
       "      <th>3</th>\n",
       "      <td>0.002977</td>\n",
       "      <td>0.204775</td>\n",
       "    </tr>\n",
       "    <tr>\n",
       "      <th>4</th>\n",
       "      <td>0.599487</td>\n",
       "      <td>-0.304381</td>\n",
       "    </tr>\n",
       "    <tr>\n",
       "      <th>...</th>\n",
       "      <td>...</td>\n",
       "      <td>...</td>\n",
       "    </tr>\n",
       "    <tr>\n",
       "      <th>9573</th>\n",
       "      <td>2.406759</td>\n",
       "      <td>3.062382</td>\n",
       "    </tr>\n",
       "    <tr>\n",
       "      <th>9574</th>\n",
       "      <td>-0.967725</td>\n",
       "      <td>-1.299571</td>\n",
       "    </tr>\n",
       "    <tr>\n",
       "      <th>9575</th>\n",
       "      <td>1.858668</td>\n",
       "      <td>-1.642211</td>\n",
       "    </tr>\n",
       "    <tr>\n",
       "      <th>9576</th>\n",
       "      <td>0.975053</td>\n",
       "      <td>-0.921117</td>\n",
       "    </tr>\n",
       "    <tr>\n",
       "      <th>9577</th>\n",
       "      <td>2.102223</td>\n",
       "      <td>1.463833</td>\n",
       "    </tr>\n",
       "  </tbody>\n",
       "</table>\n",
       "<p>9578 rows × 2 columns</p>\n",
       "</div>"
      ],
      "text/plain": [
       "           pc1       pc2\n",
       "0     0.418974  2.376294\n",
       "1     0.027903  0.306600\n",
       "2     0.324466 -0.403194\n",
       "3     0.002977  0.204775\n",
       "4     0.599487 -0.304381\n",
       "...        ...       ...\n",
       "9573  2.406759  3.062382\n",
       "9574 -0.967725 -1.299571\n",
       "9575  1.858668 -1.642211\n",
       "9576  0.975053 -0.921117\n",
       "9577  2.102223  1.463833\n",
       "\n",
       "[9578 rows x 2 columns]"
      ]
     },
     "execution_count": 12,
     "metadata": {},
     "output_type": "execute_result"
    }
   ],
   "source": [
    "pd.DataFrame(df_sc_pca,columns=['pc1','pc2'])"
   ]
  },
  {
   "cell_type": "code",
   "execution_count": 13,
   "id": "ef68126a",
   "metadata": {},
   "outputs": [
    {
     "data": {
      "text/plain": [
       "<Figure size 1080x1440 with 0 Axes>"
      ]
     },
     "execution_count": 13,
     "metadata": {},
     "output_type": "execute_result"
    },
    {
     "data": {
      "image/png": "[encoded data removed]",
      "text/plain": [
       "<Figure size 432x288 with 1 Axes>"
      ]
     },
     "metadata": {
      "needs_background": "light"
     },
     "output_type": "display_data"
    },
    {
     "data": {
      "text/plain": [
       "<Figure size 1080x1440 with 0 Axes>"
      ]
     },
     "metadata": {},
     "output_type": "display_data"
    }
   ],
   "source": [
    "plt.scatter(df_sc_pca[:,0],df_sc_pca[:,1],c=df['not.fully.paid'], cmap='plasma')\n",
    "plt.xlabel('pc1')\n",
    "plt.ylabel('pc2')\n",
    "plt.figure(figsize=(15,20))"
   ]
  },
  {
   "cell_type": "code",
   "execution_count": 14,
   "id": "b7d61a79",
   "metadata": {},
   "outputs": [],
   "source": [
    "df['target']=df['not.fully.paid']"
   ]
  },
  {
   "cell_type": "code",
   "execution_count": 15,
   "id": "d1413f32",
   "metadata": {},
   "outputs": [],
   "source": [
    " \n",
    "y_sc=df['not.fully.paid']"
   ]
  },
  {
   "cell_type": "code",
   "execution_count": 16,
   "id": "9f4baaa8",
   "metadata": {},
   "outputs": [
    {
     "data": {
      "application/javascript": [
       "\n",
       "        if (window._pyforest_update_imports_cell) { window._pyforest_update_imports_cell('from sklearn.model_selection import train_test_split'); }\n",
       "    "
      ],
      "text/plain": [
       "<IPython.core.display.Javascript object>"
      ]
     },
     "metadata": {},
     "output_type": "display_data"
    }
   ],
   "source": [
    "xtrain,xtest,ytrain,ytest=train_test_split(df_sc_pca,y_sc,test_size=0.2)"
   ]
  },
  {
   "cell_type": "code",
   "execution_count": 17,
   "id": "eed49ef1",
   "metadata": {},
   "outputs": [
    {
     "data": {
      "text/plain": [
       "(7662, 2)"
      ]
     },
     "execution_count": 17,
     "metadata": {},
     "output_type": "execute_result"
    }
   ],
   "source": [
    "xtrain.shape"
   ]
  },
  {
   "cell_type": "code",
   "execution_count": 18,
   "id": "ccf2ab5b",
   "metadata": {},
   "outputs": [
    {
     "data": {
      "text/plain": [
       "(1916, 2)"
      ]
     },
     "execution_count": 18,
     "metadata": {},
     "output_type": "execute_result"
    }
   ],
   "source": [
    "xtest.shape"
   ]
  },
  {
   "cell_type": "markdown",
   "id": "d990f662",
   "metadata": {},
   "source": [
    "### Decision tree classifier"
   ]
  },
  {
   "cell_type": "code",
   "execution_count": 19,
   "id": "75008e68",
   "metadata": {},
   "outputs": [
    {
     "data": {
      "text/plain": [
       "DecisionTreeClassifier()"
      ]
     },
     "execution_count": 19,
     "metadata": {},
     "output_type": "execute_result"
    }
   ],
   "source": [
    "from sklearn.tree import DecisionTreeClassifier\n",
    "model=DecisionTreeClassifier()\n",
    "model.fit(xtrain,ytrain)"
   ]
  },
  {
   "cell_type": "code",
   "execution_count": 20,
   "id": "afea7cd5",
   "metadata": {},
   "outputs": [
    {
     "data": {
      "text/plain": [
       "0.7411273486430062"
      ]
     },
     "execution_count": 20,
     "metadata": {},
     "output_type": "execute_result"
    }
   ],
   "source": [
    "model.score(xtest,ytest)"
   ]
  },
  {
   "cell_type": "code",
   "execution_count": 21,
   "id": "17c2d82c",
   "metadata": {},
   "outputs": [
    {
     "data": {
      "text/plain": [
       "1.0"
      ]
     },
     "execution_count": 21,
     "metadata": {},
     "output_type": "execute_result"
    }
   ],
   "source": [
    "model.score(xtrain,ytrain)"
   ]
  },
  {
   "cell_type": "code",
   "execution_count": 22,
   "id": "38f91d9e",
   "metadata": {},
   "outputs": [],
   "source": [
    "from sklearn.metrics import classification_report,confusion_matrix,accuracy_score,roc_auc_score\n",
    "from sklearn.model_selection import cross_val_score"
   ]
  },
  {
   "cell_type": "code",
   "execution_count": 23,
   "id": "b316ec68",
   "metadata": {},
   "outputs": [],
   "source": [
    "y_pred_test=model.predict(xtest)"
   ]
  },
  {
   "cell_type": "code",
   "execution_count": 24,
   "id": "a2bc36ae",
   "metadata": {},
   "outputs": [
    {
     "data": {
      "text/plain": [
       "<AxesSubplot:>"
      ]
     },
     "execution_count": 24,
     "metadata": {},
     "output_type": "execute_result"
    },
    {
     "data": {
      "image/png": "[encoded data removed]",
      "text/plain": [
       "<Figure size 432x288 with 2 Axes>"
      ]
     },
     "metadata": {
      "needs_background": "light"
     },
     "output_type": "display_data"
    }
   ],
   "source": [
    "cm=confusion_matrix(ytest,y_pred_test)\n",
    "sns.heatmap(cm,annot=True,fmt='g')"
   ]
  },
  {
   "cell_type": "code",
   "execution_count": 25,
   "id": "8f010f59",
   "metadata": {},
   "outputs": [],
   "source": [
    "y_pred_train=model.predict(xtrain)"
   ]
  },
  {
   "cell_type": "code",
   "execution_count": 26,
   "id": "559daaea",
   "metadata": {},
   "outputs": [
    {
     "data": {
      "text/plain": [
       "<AxesSubplot:>"
      ]
     },
     "execution_count": 26,
     "metadata": {},
     "output_type": "execute_result"
    },
    {
     "data": {
      "image/png": "[encoded data removed]",
      "text/plain": [
       "<Figure size 432x288 with 2 Axes>"
      ]
     },
     "metadata": {
      "needs_background": "light"
     },
     "output_type": "display_data"
    }
   ],
   "source": [
    "cm=confusion_matrix(ytrain,y_pred_train)\n",
    "sns.heatmap(cm,annot=True,fmt='g')"
   ]
  },
  {
   "cell_type": "code",
   "execution_count": 27,
   "id": "87aeaeb3",
   "metadata": {},
   "outputs": [
    {
     "name": "stdout",
     "output_type": "stream",
     "text": [
      "              precision    recall  f1-score   support\n",
      "\n",
      "           0       0.86      0.84      0.85      1631\n",
      "           1       0.18      0.20      0.19       285\n",
      "\n",
      "    accuracy                           0.74      1916\n",
      "   macro avg       0.52      0.52      0.52      1916\n",
      "weighted avg       0.76      0.74      0.75      1916\n",
      "\n"
     ]
    }
   ],
   "source": [
    "cr=classification_report(ytest,y_pred_test)\n",
    "print(cr)"
   ]
  },
  {
   "cell_type": "code",
   "execution_count": 28,
   "id": "27e8b2b6",
   "metadata": {},
   "outputs": [
    {
     "name": "stdout",
     "output_type": "stream",
     "text": [
      "              precision    recall  f1-score   support\n",
      "\n",
      "           0       1.00      1.00      1.00      6414\n",
      "           1       1.00      1.00      1.00      1248\n",
      "\n",
      "    accuracy                           1.00      7662\n",
      "   macro avg       1.00      1.00      1.00      7662\n",
      "weighted avg       1.00      1.00      1.00      7662\n",
      "\n"
     ]
    }
   ],
   "source": [
    "cr=classification_report(ytrain,y_pred_train)\n",
    "print(cr)"
   ]
  },
  {
   "cell_type": "code",
   "execution_count": 29,
   "id": "0a93b465",
   "metadata": {},
   "outputs": [
    {
     "data": {
      "text/plain": [
       "0.519289640410038"
      ]
     },
     "execution_count": 29,
     "metadata": {},
     "output_type": "execute_result"
    }
   ],
   "source": [
    "r=roc_auc_score(ytest,y_pred_test)\n",
    "r"
   ]
  },
  {
   "cell_type": "markdown",
   "id": "58787636",
   "metadata": {},
   "source": [
    "### logistic "
   ]
  },
  {
   "cell_type": "code",
   "execution_count": 30,
   "id": "f374d60f",
   "metadata": {},
   "outputs": [],
   "source": [
    "from sklearn.linear_model import LogisticRegression"
   ]
  },
  {
   "cell_type": "code",
   "execution_count": 31,
   "id": "1304df80",
   "metadata": {},
   "outputs": [
    {
     "data": {
      "text/plain": [
       "LogisticRegression()"
      ]
     },
     "execution_count": 31,
     "metadata": {},
     "output_type": "execute_result"
    }
   ],
   "source": [
    "model_2=LogisticRegression()\n",
    "model_2.fit(xtrain,ytrain)"
   ]
  },
  {
   "cell_type": "code",
   "execution_count": 32,
   "id": "4fcf0ef8",
   "metadata": {},
   "outputs": [],
   "source": [
    "y_pred_test_2=model_2.predict(xtest)\n",
    "y_pred_train_2=model.predict(xtrain)"
   ]
  },
  {
   "cell_type": "code",
   "execution_count": 33,
   "id": "24ff51aa",
   "metadata": {},
   "outputs": [
    {
     "data": {
      "text/plain": [
       "<AxesSubplot:>"
      ]
     },
     "execution_count": 33,
     "metadata": {},
     "output_type": "execute_result"
    },
    {
     "data": {
      "image/png": "[encoded data removed]",
      "text/plain": [
       "<Figure size 432x288 with 2 Axes>"
      ]
     },
     "metadata": {
      "needs_background": "light"
     },
     "output_type": "display_data"
    }
   ],
   "source": [
    "cm=confusion_matrix(ytest,y_pred_test_2)\n",
    "sns.heatmap(cm,annot=True,fmt='g')"
   ]
  },
  {
   "cell_type": "code",
   "execution_count": 34,
   "id": "2bea529b",
   "metadata": {},
   "outputs": [
    {
     "name": "stdout",
     "output_type": "stream",
     "text": [
      "              precision    recall  f1-score   support\n",
      "\n",
      "           0       1.00      1.00      1.00      6414\n",
      "           1       1.00      1.00      1.00      1248\n",
      "\n",
      "    accuracy                           1.00      7662\n",
      "   macro avg       1.00      1.00      1.00      7662\n",
      "weighted avg       1.00      1.00      1.00      7662\n",
      "\n"
     ]
    }
   ],
   "source": [
    "cr=classification_report(ytrain,y_pred_train_2)\n",
    "print(cr)"
   ]
  },
  {
   "cell_type": "code",
   "execution_count": 35,
   "id": "24d35bae",
   "metadata": {},
   "outputs": [
    {
     "data": {
      "text/plain": [
       "<AxesSubplot:>"
      ]
     },
     "execution_count": 35,
     "metadata": {},
     "output_type": "execute_result"
    },
    {
     "data": {
      "image/png": "[encoded data removed]",
      "text/plain": [
       "<Figure size 432x288 with 2 Axes>"
      ]
     },
     "metadata": {
      "needs_background": "light"
     },
     "output_type": "display_data"
    }
   ],
   "source": [
    "cm=confusion_matrix(ytest,y_pred_test_2)\n",
    "sns.heatmap(cm,annot=True,fmt='g')"
   ]
  },
  {
   "cell_type": "code",
   "execution_count": 36,
   "id": "ea974074",
   "metadata": {},
   "outputs": [
    {
     "name": "stdout",
     "output_type": "stream",
     "text": [
      "              precision    recall  f1-score   support\n",
      "\n",
      "           0       0.85      1.00      0.92      1631\n",
      "           1       0.00      0.00      0.00       285\n",
      "\n",
      "    accuracy                           0.85      1916\n",
      "   macro avg       0.43      0.50      0.46      1916\n",
      "weighted avg       0.72      0.85      0.78      1916\n",
      "\n"
     ]
    },
    {
     "name": "stderr",
     "output_type": "stream",
     "text": [
      "C:\\Users\\63094\\anaconda3\\lib\\site-packages\\sklearn\\metrics\\_classification.py:1318: UndefinedMetricWarning: Precision and F-score are ill-defined and being set to 0.0 in labels with no predicted samples. Use `zero_division` parameter to control this behavior.\n",
      "  _warn_prf(average, modifier, msg_start, len(result))\n",
      "C:\\Users\\63094\\anaconda3\\lib\\site-packages\\sklearn\\metrics\\_classification.py:1318: UndefinedMetricWarning: Precision and F-score are ill-defined and being set to 0.0 in labels with no predicted samples. Use `zero_division` parameter to control this behavior.\n",
      "  _warn_prf(average, modifier, msg_start, len(result))\n",
      "C:\\Users\\63094\\anaconda3\\lib\\site-packages\\sklearn\\metrics\\_classification.py:1318: UndefinedMetricWarning: Precision and F-score are ill-defined and being set to 0.0 in labels with no predicted samples. Use `zero_division` parameter to control this behavior.\n",
      "  _warn_prf(average, modifier, msg_start, len(result))\n"
     ]
    }
   ],
   "source": [
    "cr=classification_report(ytest,y_pred_test_2)\n",
    "print(cr)"
   ]
  },
  {
   "cell_type": "markdown",
   "id": "b765157b",
   "metadata": {},
   "source": [
    "### balancing"
   ]
  },
  {
   "cell_type": "code",
   "execution_count": 37,
   "id": "9262714e",
   "metadata": {},
   "outputs": [],
   "source": [
    "from imblearn import over_sampling,under_sampling\n",
    "from imblearn.over_sampling import RandomOverSampler"
   ]
  },
  {
   "cell_type": "code",
   "execution_count": 38,
   "id": "5ed8819d",
   "metadata": {},
   "outputs": [
    {
     "data": {
      "application/javascript": [
       "\n",
       "        if (window._pyforest_update_imports_cell) { window._pyforest_update_imports_cell('from sklearn.model_selection import train_test_split'); }\n",
       "    "
      ],
      "text/plain": [
       "<IPython.core.display.Javascript object>"
      ]
     },
     "metadata": {},
     "output_type": "display_data"
    }
   ],
   "source": [
    "ros=RandomOverSampler( random_state=23)\n",
    "x_rs,y_rs=ros.fit_resample(df_sc_pca,y_sc)\n",
    "x_train,x_test,y_train,y_test=train_test_split(x_rs,y_rs,test_size=0.25)\n",
    "y_pred_train_rs=model.predict(x_train)"
   ]
  },
  {
   "cell_type": "code",
   "execution_count": 39,
   "id": "b4d68769",
   "metadata": {},
   "outputs": [
    {
     "data": {
      "text/plain": [
       "1    6072\n",
       "0    5995\n",
       "Name: not.fully.paid, dtype: int64"
      ]
     },
     "execution_count": 39,
     "metadata": {},
     "output_type": "execute_result"
    }
   ],
   "source": [
    "y_train.value_counts()"
   ]
  },
  {
   "cell_type": "code",
   "execution_count": 51,
   "id": "45069532",
   "metadata": {},
   "outputs": [
    {
     "data": {
      "text/plain": [
       "DecisionTreeClassifier()"
      ]
     },
     "execution_count": 51,
     "metadata": {},
     "output_type": "execute_result"
    }
   ],
   "source": [
    "from sklearn import tree \n",
    "model_2_d=tree.DecisionTreeClassifier()\n",
    "model_2_d.fit(x_train,y_train)"
   ]
  },
  {
   "cell_type": "code",
   "execution_count": 41,
   "id": "b402bf3e",
   "metadata": {},
   "outputs": [
    {
     "data": {
      "text/plain": [
       "0.9023117076808352"
      ]
     },
     "execution_count": 41,
     "metadata": {},
     "output_type": "execute_result"
    }
   ],
   "source": [
    "model_2_d.score(x_test,y_test)"
   ]
  },
  {
   "cell_type": "code",
   "execution_count": 42,
   "id": "30e68e84",
   "metadata": {},
   "outputs": [
    {
     "data": {
      "text/plain": [
       "1.0"
      ]
     },
     "execution_count": 42,
     "metadata": {},
     "output_type": "execute_result"
    }
   ],
   "source": [
    "model_2_d.score(x_train,y_train)"
   ]
  },
  {
   "cell_type": "code",
   "execution_count": 43,
   "id": "96917608",
   "metadata": {},
   "outputs": [],
   "source": [
    "y_pred_test_2_d=model_2_d.predict(x_test)\n",
    "y_pred_train_2_d=model_2_d.predict(x_train)"
   ]
  },
  {
   "cell_type": "code",
   "execution_count": 44,
   "id": "a6d6bf81",
   "metadata": {},
   "outputs": [
    {
     "data": {
      "text/plain": [
       "<AxesSubplot:>"
      ]
     },
     "execution_count": 44,
     "metadata": {},
     "output_type": "execute_result"
    },
    {
     "data": {
      "image/png": "[encoded data removed]",
      "text/plain": [
       "<Figure size 432x288 with 2 Axes>"
      ]
     },
     "metadata": {
      "needs_background": "light"
     },
     "output_type": "display_data"
    }
   ],
   "source": [
    "cm_d=confusion_matrix(y_test,y_pred_test_2_d)\n",
    "sns.heatmap(cm_d,annot=True,fmt='g')"
   ]
  },
  {
   "cell_type": "code",
   "execution_count": 45,
   "id": "73894d21",
   "metadata": {},
   "outputs": [
    {
     "data": {
      "text/plain": [
       "<AxesSubplot:>"
      ]
     },
     "execution_count": 45,
     "metadata": {},
     "output_type": "execute_result"
    },
    {
     "data": {
      "image/png": "[encoded data removed]",
      "text/plain": [
       "<Figure size 432x288 with 2 Axes>"
      ]
     },
     "metadata": {
      "needs_background": "light"
     },
     "output_type": "display_data"
    }
   ],
   "source": [
    "cm_d=confusion_matrix(y_train,y_pred_train_2_d)\n",
    "sns.heatmap(cm_d,annot=True,fmt='g')"
   ]
  },
  {
   "cell_type": "code",
   "execution_count": 46,
   "id": "f5c75314",
   "metadata": {},
   "outputs": [
    {
     "name": "stdout",
     "output_type": "stream",
     "text": [
      "              precision    recall  f1-score   support\n",
      "\n",
      "           0       1.00      1.00      1.00      5995\n",
      "           1       1.00      1.00      1.00      6072\n",
      "\n",
      "    accuracy                           1.00     12067\n",
      "   macro avg       1.00      1.00      1.00     12067\n",
      "weighted avg       1.00      1.00      1.00     12067\n",
      "\n"
     ]
    }
   ],
   "source": [
    "cr=classification_report(y_train,y_pred_train_2_d)\n",
    "print(cr)"
   ]
  },
  {
   "cell_type": "code",
   "execution_count": 47,
   "id": "e9211ded",
   "metadata": {},
   "outputs": [
    {
     "name": "stdout",
     "output_type": "stream",
     "text": [
      "              precision    recall  f1-score   support\n",
      "\n",
      "           0       0.99      0.82      0.90      2050\n",
      "           1       0.84      0.99      0.91      1973\n",
      "\n",
      "    accuracy                           0.90      4023\n",
      "   macro avg       0.91      0.90      0.90      4023\n",
      "weighted avg       0.92      0.90      0.90      4023\n",
      "\n"
     ]
    }
   ],
   "source": [
    "cr=classification_report(y_test,y_pred_test_2_d)\n",
    "print(cr)"
   ]
  },
  {
   "cell_type": "code",
   "execution_count": 56,
   "id": "8e898f13",
   "metadata": {},
   "outputs": [
    {
     "data": {
      "text/plain": [
       "0.9110627719080174"
      ]
     },
     "execution_count": 56,
     "metadata": {},
     "output_type": "execute_result"
    }
   ],
   "source": [
    "a=cross_val_score(model_2_d,x_rs,y_rs,cv=10)\n",
    "a.mean()"
   ]
  },
  {
   "cell_type": "code",
   "execution_count": 53,
   "id": "1599d030",
   "metadata": {},
   "outputs": [
    {
     "data": {
      "image/png": "[encoded data removed]",
      "text/plain": [
       "<Figure size 432x288 with 1 Axes>"
      ]
     },
     "metadata": {
      "needs_background": "light"
     },
     "output_type": "display_data"
    }
   ],
   "source": [
    "tree.plot_tree(model_2_d,filled=True);"
   ]
  },
  {
   "cell_type": "raw",
   "id": "752c1550",
   "metadata": {},
   "source": []
  }
 ],
 "metadata": {
  "kernelspec": {
   "display_name": "Python 3",
   "language": "python",
   "name": "python3"
  },
  "language_info": {
   "codemirror_mode": {
    "name": "ipython",
    "version": 3
   },
   "file_extension": ".py",
   "mimetype": "text/x-python",
   "name": "python",
   "nbconvert_exporter": "python",
   "pygments_lexer": "ipython3",
   "version": "3.8.8"
  }
 },
 "nbformat": 4,
 "nbformat_minor": 5
}
